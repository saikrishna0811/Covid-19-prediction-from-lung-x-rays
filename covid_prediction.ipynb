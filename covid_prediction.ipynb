{
  "nbformat": 4,
  "nbformat_minor": 0,
  "metadata": {
    "colab": {
      "provenance": []
    },
    "kernelspec": {
      "name": "python3",
      "display_name": "Python 3"
    },
    "language_info": {
      "name": "python"
    }
  },
  "cells": [
    {
      "cell_type": "code",
      "execution_count": null,
      "metadata": {
        "id": "qNNuil_XNc8I"
      },
      "outputs": [],
      "source": [
        "from tensorflow.keras.models import Sequential\n",
        "from tensorflow.keras.layers import Conv2D, MaxPool2D,Dropout, Flatten, Dense\n",
        "from tensorflow.keras.optimizers import Adam\n",
        "from tensorflow.keras.preprocessing.image import ImageDataGenerator\n",
        "import numpy as np\n",
        "import pandas as pd\n",
        "import matplotlib.pyplot as plt"
      ]
    },
    {
      "cell_type": "code",
      "source": [
        "!git clone https://github.com/RishitToteja/Chext-X-ray-Images-Data-Set.git\n",
        "# used data set from github source"
      ],
      "metadata": {
        "colab": {
          "base_uri": "https://localhost:8080/"
        },
        "id": "i-OjoyH3NlAi",
        "outputId": "372cec76-dd8b-4d07-d0c5-0897fbb51763"
      },
      "execution_count": null,
      "outputs": [
        {
          "output_type": "stream",
          "name": "stdout",
          "text": [
            "Cloning into 'Chext-X-ray-Images-Data-Set'...\n",
            "remote: Enumerating objects: 2319, done.\u001b[K\n",
            "remote: Total 2319 (delta 0), reused 0 (delta 0), pack-reused 2319\u001b[K\n",
            "Receiving objects: 100% (2319/2319), 1.31 GiB | 36.02 MiB/s, done.\n",
            "Checking out files: 100% (2296/2296), done.\n"
          ]
        }
      ]
    },
    {
      "cell_type": "code",
      "source": [
        "import os\n",
        "\n",
        "main_dir = \"/content/Chext-X-ray-Images-Data-Set/DataSet/Data\"\n",
        "\n",
        "# SETTING TRAIN AND TEST DIRECTORY\n",
        "train_dir = os.path.join(main_dir, \"train\")\n",
        "test_dir = os.path.join(main_dir, \"test\")\n",
        "\n",
        "#SETING DIRECTORY FOR COVID AND NORMAL IMAGES DIRECTORY\n",
        "train_covid_dir = os.path.join(train_dir, \"COVID19\")\n",
        "train_normal_dir = os.path.join(train_dir, \"NORMAL\")\n",
        "\n",
        "test_covid_dir = os.path.join(test_dir, \"COVID19\")\n",
        "test_normal_dir = os.path.join(test_dir, \"NORMAL\")\n",
        "train_covid_names = os.listdir(train_covid_dir)\n",
        "train_normal_names = os.listdir(train_normal_dir)\n",
        "\n",
        "test_covid_names = os.listdir(test_covid_dir)\n",
        "test_normal_names = os.listdir(test_normal_dir)"
      ],
      "metadata": {
        "id": "dCwLVrJ8ORr3"
      },
      "execution_count": null,
      "outputs": []
    },
    {
      "cell_type": "code",
      "source": [
        "dgen_train = ImageDataGenerator(rescale = 1./255,\n",
        "                                validation_split = 0.2,\n",
        "                                zoom_range = 0.2,\n",
        "                                horizontal_flip = True)\n",
        "\n",
        "dgen_validation = ImageDataGenerator(rescale = 1./255,\n",
        "                                     )\n",
        "\n",
        "dgen_test = ImageDataGenerator(rescale = 1./255,\n",
        "                              )\n",
        "\n",
        "train_generator = dgen_train.flow_from_directory(train_dir,\n",
        "                                                 target_size = (150, 150), \n",
        "                                                 subset = 'training',\n",
        "                                                 batch_size = 32,\n",
        "                                                 class_mode = 'binary')\n",
        "validation_generator = dgen_train.flow_from_directory(train_dir,\n",
        "                                                      target_size = (150, 150), \n",
        "                                                      subset = \"validation\", \n",
        "                                                      batch_size = 32, \n",
        "                                                      class_mode = \"binary\")\n",
        "test_generator = dgen_test.flow_from_directory(test_dir,\n",
        "                                               target_size = (150, 150), \n",
        "                                               batch_size = 32, \n",
        "                                               class_mode = \"binary\")"
      ],
      "metadata": {
        "colab": {
          "base_uri": "https://localhost:8080/"
        },
        "id": "wgJW7a5NOgXp",
        "outputId": "22749991-c73c-45d4-a2f5-b233a3b89240"
      },
      "execution_count": null,
      "outputs": [
        {
          "output_type": "stream",
          "name": "stdout",
          "text": [
            "Found 1449 images belonging to 2 classes.\n",
            "Found 362 images belonging to 2 classes.\n",
            "Found 484 images belonging to 2 classes.\n"
          ]
        }
      ]
    },
    {
      "cell_type": "code",
      "source": [
        "from tensorflow.keras.layers import Conv2D, MaxPooling2D\n",
        "\n",
        "model = Sequential()\n",
        "\n",
        "# 1) CONVOLUTIONAL LAYER - 1\n",
        "model.add(Conv2D(32, (5,5), padding = \"same\", activation = \"relu\", input_shape = train_generator.image_shape))\n",
        "\n",
        "# 2) POOLING LAYER - 1\n",
        "model.add(MaxPooling2D(pool_size=(2,2)))\n",
        "\n",
        "# 3) DROPOUT LAYER -2\n",
        "model.add(Dropout(0.5))\n",
        "\n",
        "# 4) CONVOLUTIONAL LAYER - 2\n",
        "model.add(Conv2D(64, (5,5), padding = \"same\", activation = \"relu\"))\n",
        "\n",
        "# 5) POOLING LAYER - 2\n",
        "model.add(MaxPooling2D(pool_size=(2,2)))\n",
        "\n",
        "# 6) DROPOUT LAYER - 2\n",
        "model.add(Dropout(0.5))\n",
        "\n",
        "# 7) FLATTENING LAYER TO 2D SHAPE\n",
        "model.add(Flatten())\n",
        "\n",
        "# 8) ADDING A DENSE LAYER\n",
        "model.add(Dense(256, activation = 'relu'))\n",
        "\n",
        "# 9 DROPOUT LAYER - 3\n",
        "model.add(Dropout(0.5))\n",
        "\n",
        "# 10) FINAL OUTPUT LAYER\n",
        "model.add(Dense(1, activation = 'sigmoid'))"
      ],
      "metadata": {
        "id": "4HNRi96POo9e"
      },
      "execution_count": null,
      "outputs": []
    },
    {
      "cell_type": "code",
      "source": [
        "model.compile(Adam(learning_rate = 0.001), loss = 'binary_crossentropy', metrics = ['accuracy'])"
      ],
      "metadata": {
        "id": "EfMV4x0-OtU6"
      },
      "execution_count": null,
      "outputs": []
    },
    {
      "cell_type": "code",
      "source": [
        "history = model.fit(train_generator, \n",
        "                    epochs = 35, \n",
        "                    validation_data = validation_generator)"
      ],
      "metadata": {
        "colab": {
          "base_uri": "https://localhost:8080/"
        },
        "id": "YraJW4A7OwX9",
        "outputId": "ba0b70a5-31ff-4c62-f9d1-fdec1a9f234f"
      },
      "execution_count": null,
      "outputs": [
        {
          "output_type": "stream",
          "name": "stdout",
          "text": [
            "Epoch 1/35\n",
            "46/46 [==============================] - 165s 4s/step - loss: 1.0485 - accuracy: 0.7081 - val_loss: 0.3087 - val_accuracy: 0.8785\n",
            "Epoch 2/35\n",
            "46/46 [==============================] - 164s 4s/step - loss: 0.2430 - accuracy: 0.9027 - val_loss: 0.1757 - val_accuracy: 0.9586\n",
            "Epoch 3/35\n",
            "46/46 [==============================] - 161s 3s/step - loss: 0.1779 - accuracy: 0.9427 - val_loss: 0.1483 - val_accuracy: 0.9530\n",
            "Epoch 4/35\n",
            "46/46 [==============================] - 162s 4s/step - loss: 0.1615 - accuracy: 0.9476 - val_loss: 0.1494 - val_accuracy: 0.9558\n",
            "Epoch 5/35\n",
            "46/46 [==============================] - 164s 4s/step - loss: 0.1838 - accuracy: 0.9379 - val_loss: 0.1454 - val_accuracy: 0.9530\n",
            "Epoch 6/35\n",
            "46/46 [==============================] - 161s 3s/step - loss: 0.1506 - accuracy: 0.9441 - val_loss: 0.1643 - val_accuracy: 0.9586\n",
            "Epoch 7/35\n",
            "46/46 [==============================] - 160s 3s/step - loss: 0.1304 - accuracy: 0.9572 - val_loss: 0.1346 - val_accuracy: 0.9641\n",
            "Epoch 8/35\n",
            "46/46 [==============================] - 163s 4s/step - loss: 0.1316 - accuracy: 0.9545 - val_loss: 0.1296 - val_accuracy: 0.9641\n",
            "Epoch 9/35\n",
            "46/46 [==============================] - 162s 4s/step - loss: 0.1288 - accuracy: 0.9545 - val_loss: 0.1154 - val_accuracy: 0.9669\n",
            "Epoch 10/35\n",
            "46/46 [==============================] - 161s 3s/step - loss: 0.1273 - accuracy: 0.9531 - val_loss: 0.1274 - val_accuracy: 0.9558\n",
            "Epoch 11/35\n",
            "46/46 [==============================] - 162s 4s/step - loss: 0.1189 - accuracy: 0.9627 - val_loss: 0.0762 - val_accuracy: 0.9724\n",
            "Epoch 12/35\n",
            "46/46 [==============================] - 164s 4s/step - loss: 0.1274 - accuracy: 0.9586 - val_loss: 0.0956 - val_accuracy: 0.9641\n",
            "Epoch 13/35\n",
            "46/46 [==============================] - 163s 4s/step - loss: 0.1116 - accuracy: 0.9614 - val_loss: 0.0985 - val_accuracy: 0.9724\n",
            "Epoch 14/35\n",
            "46/46 [==============================] - 162s 4s/step - loss: 0.1109 - accuracy: 0.9600 - val_loss: 0.0941 - val_accuracy: 0.9558\n",
            "Epoch 15/35\n",
            "46/46 [==============================] - 161s 3s/step - loss: 0.1156 - accuracy: 0.9600 - val_loss: 0.1070 - val_accuracy: 0.9696\n",
            "Epoch 16/35\n",
            "46/46 [==============================] - 161s 3s/step - loss: 0.1098 - accuracy: 0.9607 - val_loss: 0.1039 - val_accuracy: 0.9641\n",
            "Epoch 17/35\n",
            "46/46 [==============================] - 160s 3s/step - loss: 0.1060 - accuracy: 0.9683 - val_loss: 0.0980 - val_accuracy: 0.9669\n",
            "Epoch 18/35\n",
            "46/46 [==============================] - 160s 3s/step - loss: 0.0794 - accuracy: 0.9710 - val_loss: 0.1150 - val_accuracy: 0.9558\n",
            "Epoch 19/35\n",
            "46/46 [==============================] - 161s 3s/step - loss: 0.1036 - accuracy: 0.9662 - val_loss: 0.1072 - val_accuracy: 0.9641\n",
            "Epoch 20/35\n",
            "46/46 [==============================] - 161s 3s/step - loss: 0.0916 - accuracy: 0.9655 - val_loss: 0.1017 - val_accuracy: 0.9669\n",
            "Epoch 21/35\n",
            "46/46 [==============================] - 161s 4s/step - loss: 0.1113 - accuracy: 0.9689 - val_loss: 0.0792 - val_accuracy: 0.9724\n",
            "Epoch 22/35\n",
            "46/46 [==============================] - 162s 3s/step - loss: 0.0935 - accuracy: 0.9717 - val_loss: 0.0924 - val_accuracy: 0.9669\n",
            "Epoch 23/35\n",
            "46/46 [==============================] - 161s 3s/step - loss: 0.1021 - accuracy: 0.9689 - val_loss: 0.1266 - val_accuracy: 0.9669\n",
            "Epoch 24/35\n",
            "46/46 [==============================] - 160s 3s/step - loss: 0.0951 - accuracy: 0.9655 - val_loss: 0.0762 - val_accuracy: 0.9696\n",
            "Epoch 25/35\n",
            "46/46 [==============================] - 160s 3s/step - loss: 0.0993 - accuracy: 0.9627 - val_loss: 0.0968 - val_accuracy: 0.9641\n",
            "Epoch 26/35\n",
            "46/46 [==============================] - 160s 3s/step - loss: 0.0805 - accuracy: 0.9731 - val_loss: 0.1423 - val_accuracy: 0.9448\n",
            "Epoch 27/35\n",
            "46/46 [==============================] - 160s 3s/step - loss: 0.0787 - accuracy: 0.9752 - val_loss: 0.1255 - val_accuracy: 0.9641\n",
            "Epoch 28/35\n",
            "46/46 [==============================] - 159s 3s/step - loss: 0.0842 - accuracy: 0.9738 - val_loss: 0.0881 - val_accuracy: 0.9669\n",
            "Epoch 29/35\n",
            "46/46 [==============================] - 160s 3s/step - loss: 0.1201 - accuracy: 0.9565 - val_loss: 0.0975 - val_accuracy: 0.9724\n",
            "Epoch 30/35\n",
            "46/46 [==============================] - 160s 3s/step - loss: 0.0789 - accuracy: 0.9724 - val_loss: 0.0898 - val_accuracy: 0.9724\n",
            "Epoch 31/35\n",
            "46/46 [==============================] - 163s 4s/step - loss: 0.0591 - accuracy: 0.9821 - val_loss: 0.0781 - val_accuracy: 0.9751\n",
            "Epoch 32/35\n",
            "46/46 [==============================] - 160s 3s/step - loss: 0.0702 - accuracy: 0.9807 - val_loss: 0.0721 - val_accuracy: 0.9834\n",
            "Epoch 33/35\n",
            "46/46 [==============================] - 159s 3s/step - loss: 0.0561 - accuracy: 0.9821 - val_loss: 0.1167 - val_accuracy: 0.9669\n",
            "Epoch 34/35\n",
            "46/46 [==============================] - 161s 3s/step - loss: 0.0425 - accuracy: 0.9834 - val_loss: 0.0927 - val_accuracy: 0.9779\n",
            "Epoch 35/35\n",
            "46/46 [==============================] - 162s 3s/step - loss: 0.0595 - accuracy: 0.9772 - val_loss: 0.0898 - val_accuracy: 0.9751\n"
          ]
        }
      ]
    },
    {
      "cell_type": "code",
      "source": [
        "model.save(\"model.h5\")"
      ],
      "metadata": {
        "id": "j7M4KrksosiO"
      },
      "execution_count": null,
      "outputs": []
    },
    {
      "cell_type": "code",
      "source": [
        "from google.colab import files\n",
        "from keras.preprocessing import image\n",
        "from tensorflow.keras.utils import load_img, img_to_array \n",
        "\n",
        "uploaded = files.upload()\n",
        "\n",
        "for filename in uploaded.keys():\n",
        "  img_path = '/content/' + filename\n",
        "  img = load_img(img_path, target_size = (150,150))\n",
        "  images = img_to_array(img)\n",
        "  images = np.expand_dims(images, axis = 0)\n",
        "  prediction = model.predict(images)\n",
        "  \n",
        "  if prediction == 0:\n",
        "    print(\"The report is COVID-19 Positive\")\n",
        "  else:\n",
        "    print(\"The report is COVID-19 Negative\")"
      ],
      "metadata": {
        "colab": {
          "base_uri": "https://localhost:8080/",
          "height": 108
        },
        "id": "zcM9qByuo4D5",
        "outputId": "e60629e2-9954-4aaf-c872-d02891a4b97a"
      },
      "execution_count": null,
      "outputs": [
        {
          "output_type": "display_data",
          "data": {
            "text/plain": [
              "<IPython.core.display.HTML object>"
            ],
            "text/html": [
              "\n",
              "     <input type=\"file\" id=\"files-06c098de-faa0-4dc9-8cec-8a234461fe45\" name=\"files[]\" multiple disabled\n",
              "        style=\"border:none\" />\n",
              "     <output id=\"result-06c098de-faa0-4dc9-8cec-8a234461fe45\">\n",
              "      Upload widget is only available when the cell has been executed in the\n",
              "      current browser session. Please rerun this cell to enable.\n",
              "      </output>\n",
              "      <script>// Copyright 2017 Google LLC\n",
              "//\n",
              "// Licensed under the Apache License, Version 2.0 (the \"License\");\n",
              "// you may not use this file except in compliance with the License.\n",
              "// You may obtain a copy of the License at\n",
              "//\n",
              "//      http://www.apache.org/licenses/LICENSE-2.0\n",
              "//\n",
              "// Unless required by applicable law or agreed to in writing, software\n",
              "// distributed under the License is distributed on an \"AS IS\" BASIS,\n",
              "// WITHOUT WARRANTIES OR CONDITIONS OF ANY KIND, either express or implied.\n",
              "// See the License for the specific language governing permissions and\n",
              "// limitations under the License.\n",
              "\n",
              "/**\n",
              " * @fileoverview Helpers for google.colab Python module.\n",
              " */\n",
              "(function(scope) {\n",
              "function span(text, styleAttributes = {}) {\n",
              "  const element = document.createElement('span');\n",
              "  element.textContent = text;\n",
              "  for (const key of Object.keys(styleAttributes)) {\n",
              "    element.style[key] = styleAttributes[key];\n",
              "  }\n",
              "  return element;\n",
              "}\n",
              "\n",
              "// Max number of bytes which will be uploaded at a time.\n",
              "const MAX_PAYLOAD_SIZE = 100 * 1024;\n",
              "\n",
              "function _uploadFiles(inputId, outputId) {\n",
              "  const steps = uploadFilesStep(inputId, outputId);\n",
              "  const outputElement = document.getElementById(outputId);\n",
              "  // Cache steps on the outputElement to make it available for the next call\n",
              "  // to uploadFilesContinue from Python.\n",
              "  outputElement.steps = steps;\n",
              "\n",
              "  return _uploadFilesContinue(outputId);\n",
              "}\n",
              "\n",
              "// This is roughly an async generator (not supported in the browser yet),\n",
              "// where there are multiple asynchronous steps and the Python side is going\n",
              "// to poll for completion of each step.\n",
              "// This uses a Promise to block the python side on completion of each step,\n",
              "// then passes the result of the previous step as the input to the next step.\n",
              "function _uploadFilesContinue(outputId) {\n",
              "  const outputElement = document.getElementById(outputId);\n",
              "  const steps = outputElement.steps;\n",
              "\n",
              "  const next = steps.next(outputElement.lastPromiseValue);\n",
              "  return Promise.resolve(next.value.promise).then((value) => {\n",
              "    // Cache the last promise value to make it available to the next\n",
              "    // step of the generator.\n",
              "    outputElement.lastPromiseValue = value;\n",
              "    return next.value.response;\n",
              "  });\n",
              "}\n",
              "\n",
              "/**\n",
              " * Generator function which is called between each async step of the upload\n",
              " * process.\n",
              " * @param {string} inputId Element ID of the input file picker element.\n",
              " * @param {string} outputId Element ID of the output display.\n",
              " * @return {!Iterable<!Object>} Iterable of next steps.\n",
              " */\n",
              "function* uploadFilesStep(inputId, outputId) {\n",
              "  const inputElement = document.getElementById(inputId);\n",
              "  inputElement.disabled = false;\n",
              "\n",
              "  const outputElement = document.getElementById(outputId);\n",
              "  outputElement.innerHTML = '';\n",
              "\n",
              "  const pickedPromise = new Promise((resolve) => {\n",
              "    inputElement.addEventListener('change', (e) => {\n",
              "      resolve(e.target.files);\n",
              "    });\n",
              "  });\n",
              "\n",
              "  const cancel = document.createElement('button');\n",
              "  inputElement.parentElement.appendChild(cancel);\n",
              "  cancel.textContent = 'Cancel upload';\n",
              "  const cancelPromise = new Promise((resolve) => {\n",
              "    cancel.onclick = () => {\n",
              "      resolve(null);\n",
              "    };\n",
              "  });\n",
              "\n",
              "  // Wait for the user to pick the files.\n",
              "  const files = yield {\n",
              "    promise: Promise.race([pickedPromise, cancelPromise]),\n",
              "    response: {\n",
              "      action: 'starting',\n",
              "    }\n",
              "  };\n",
              "\n",
              "  cancel.remove();\n",
              "\n",
              "  // Disable the input element since further picks are not allowed.\n",
              "  inputElement.disabled = true;\n",
              "\n",
              "  if (!files) {\n",
              "    return {\n",
              "      response: {\n",
              "        action: 'complete',\n",
              "      }\n",
              "    };\n",
              "  }\n",
              "\n",
              "  for (const file of files) {\n",
              "    const li = document.createElement('li');\n",
              "    li.append(span(file.name, {fontWeight: 'bold'}));\n",
              "    li.append(span(\n",
              "        `(${file.type || 'n/a'}) - ${file.size} bytes, ` +\n",
              "        `last modified: ${\n",
              "            file.lastModifiedDate ? file.lastModifiedDate.toLocaleDateString() :\n",
              "                                    'n/a'} - `));\n",
              "    const percent = span('0% done');\n",
              "    li.appendChild(percent);\n",
              "\n",
              "    outputElement.appendChild(li);\n",
              "\n",
              "    const fileDataPromise = new Promise((resolve) => {\n",
              "      const reader = new FileReader();\n",
              "      reader.onload = (e) => {\n",
              "        resolve(e.target.result);\n",
              "      };\n",
              "      reader.readAsArrayBuffer(file);\n",
              "    });\n",
              "    // Wait for the data to be ready.\n",
              "    let fileData = yield {\n",
              "      promise: fileDataPromise,\n",
              "      response: {\n",
              "        action: 'continue',\n",
              "      }\n",
              "    };\n",
              "\n",
              "    // Use a chunked sending to avoid message size limits. See b/62115660.\n",
              "    let position = 0;\n",
              "    do {\n",
              "      const length = Math.min(fileData.byteLength - position, MAX_PAYLOAD_SIZE);\n",
              "      const chunk = new Uint8Array(fileData, position, length);\n",
              "      position += length;\n",
              "\n",
              "      const base64 = btoa(String.fromCharCode.apply(null, chunk));\n",
              "      yield {\n",
              "        response: {\n",
              "          action: 'append',\n",
              "          file: file.name,\n",
              "          data: base64,\n",
              "        },\n",
              "      };\n",
              "\n",
              "      let percentDone = fileData.byteLength === 0 ?\n",
              "          100 :\n",
              "          Math.round((position / fileData.byteLength) * 100);\n",
              "      percent.textContent = `${percentDone}% done`;\n",
              "\n",
              "    } while (position < fileData.byteLength);\n",
              "  }\n",
              "\n",
              "  // All done.\n",
              "  yield {\n",
              "    response: {\n",
              "      action: 'complete',\n",
              "    }\n",
              "  };\n",
              "}\n",
              "\n",
              "scope.google = scope.google || {};\n",
              "scope.google.colab = scope.google.colab || {};\n",
              "scope.google.colab._files = {\n",
              "  _uploadFiles,\n",
              "  _uploadFilesContinue,\n",
              "};\n",
              "})(self);\n",
              "</script> "
            ]
          },
          "metadata": {}
        },
        {
          "output_type": "stream",
          "name": "stdout",
          "text": [
            "Saving COVID-19 (313).jpg to COVID-19 (313) (3).jpg\n",
            "1/1 [==============================] - 0s 190ms/step\n",
            "The report is COVID-19 Positive\n"
          ]
        }
      ]
    }
  ]
}